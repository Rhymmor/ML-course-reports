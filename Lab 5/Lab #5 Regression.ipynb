{
 "cells": [
  {
   "cell_type": "markdown",
   "metadata": {},
   "source": [
    "# Introduction into regression analysis\n",
    "\n",
    "In pattern recognition problem we have\n",
    "\n",
    "$Y \\in D_Y = \\{w_1, ... , w_k\\}$\n",
    "\n",
    "is a set of unordered values, i.e. $Y$ - a qualitative variable\n",
    "\n",
    "**Regression analysis**: $Y \\in R$ is a real-valued variable.\n",
    "\n",
    "Random samples of objects $ \\{ o^{(1)}, ... , o^{(N)}\\}$\n",
    "\n",
    "Set of variables $X_1, ... , X_n$\n",
    "\n",
    "Data table $ x^{(i)}_j = X_j(o^{(i)}),\\space j = 1, ... , n; y^{(i)}=Y(o^{(i)}) \\space i = 1, ... , N $\n",
    "\n",
    "Purpose of analysis is to predict values of variable $Y$ depending on values $X$ for any new object by minimizing some expected loss $L(y_{pred}, y_{real})$\n",
    "\n",
    "Usually we use OLS (ordinary least squares) loss function : $L(y_{pred}, y_{real}) = (y_{pred} - y_{real})^2$\n",
    "\n",
    "## Approaches for regression:\n",
    "* Parametric models\n",
    "* Non-parametric\n",
    "* SVM\n",
    "* Logical rules (regression trees)\n",
    "* ...\n",
    "\n",
    "\n",
    "Our linear model will look like:\n",
    "$$ Y^{(i)} = \\beta_0 + \\beta_1x^{(i)}_1 + ... + \\beta_nx^{(i)}_n + \\epsilon^{(i)} $$\n",
    "\n",
    "$ \\epsilon $ - is supposed to be $N(0, \\sigma)$, $\\epsilon^{(i)}$ and $\\epsilon^{(i)}$ are supposed to be independent for $i \\neq j $\n",
    "\n",
    "in matrix form:\n",
    "**$$ Y = X\\beta +  \\epsilon $$**"
   ]
  },
  {
   "cell_type": "markdown",
   "metadata": {},
   "source": [
    "# Examples of regression implementations (OLS)\n",
    "\n",
    "* scikit-learn - easier to use\n",
    "* statsmodel - provide stats out of the box (easier to perform statistical tests, and build confidence intervals), but interfaces are a bit harder\n",
    "* tensorflow - we build linear regression with that library just to grasp a concept of computational graphs and SGD optimization\n"
   ]
  },
  {
   "cell_type": "code",
   "execution_count": 1,
   "metadata": {
    "collapsed": false
   },
   "outputs": [
    {
     "name": "stdout",
     "output_type": "stream",
     "text": [
      "('Coefficients: \\n', array([ 938.23786125]), 152.91886182616167)\n",
      "Mean squared error: 2548.07\n",
      "Variance score: 0.47\n"
     ]
    },
    {
     "data": {
      "image/png": "[encoded data removed]",
      "text/plain": [
       "<matplotlib.figure.Figure at 0x10b27f110>"
      ]
     },
     "metadata": {},
     "output_type": "display_data"
    }
   ],
   "source": [
    "import matplotlib.pyplot as plt\n",
    "import numpy as np\n",
    "from sklearn import datasets, linear_model\n",
    "%matplotlib inline\n",
    "\n",
    "# Load the diabetes dataset\n",
    "diabetes = datasets.load_diabetes()\n",
    "\n",
    "\n",
    "# Use only one feature\n",
    "diabetes_X = diabetes.data[:, np.newaxis, 2]\n",
    "\n",
    "# Split the data into training/testing sets\n",
    "diabetes_X_train = diabetes_X[:-20]\n",
    "diabetes_X_test = diabetes_X[-20:]\n",
    "\n",
    "# Split the targets into training/testing sets\n",
    "diabetes_y_train = diabetes.target[:-20]\n",
    "diabetes_y_test = diabetes.target[-20:]\n",
    "\n",
    "# Create linear regression object\n",
    "regr = linear_model.LinearRegression()\n",
    "\n",
    "# Train the model using the training sets\n",
    "regr.fit(diabetes_X_train, diabetes_y_train)\n",
    "\n",
    "# The coefficients\n",
    "print('Coefficients: \\n', regr.coef_, regr.intercept_)\n",
    "# The mean squared error\n",
    "print(\"Mean squared error: %.2f\"\n",
    "      % np.mean((regr.predict(diabetes_X_test) - diabetes_y_test) ** 2))\n",
    "# Explained variance score: 1 is perfect prediction\n",
    "print('Variance score: %.2f' % regr.score(diabetes_X_test, diabetes_y_test))\n",
    "\n",
    "# Plot outputs\n",
    "plt.scatter(diabetes_X_test, diabetes_y_test,  color='black')\n",
    "plt.plot(diabetes_X_test, regr.predict(diabetes_X_test), color='blue',\n",
    "         linewidth=3)\n",
    "\n",
    "plt.xticks(())\n",
    "plt.yticks(())\n",
    "\n",
    "plt.show()\n"
   ]
  },
  {
   "cell_type": "code",
   "execution_count": 2,
   "metadata": {
    "collapsed": false
   },
   "outputs": [
    {
     "name": "stdout",
     "output_type": "stream",
     "text": [
      "                            OLS Regression Results                            \n",
      "==============================================================================\n",
      "Dep. Variable:                      y   R-squared:                       0.416\n",
      "Model:                            OLS   Adj. R-squared:                  0.353\n",
      "Method:                 Least Squares   F-statistic:                     6.646\n",
      "Date:                Thu, 01 Jun 2017   Prob (F-statistic):            0.00157\n",
      "Time:                        19:26:28   Log-Likelihood:                -12.978\n",
      "No. Observations:                  32   AIC:                             33.96\n",
      "Df Residuals:                      28   BIC:                             39.82\n",
      "Df Model:                           3                                         \n",
      "Covariance Type:            nonrobust                                         \n",
      "==============================================================================\n",
      "                 coef    std err          t      P>|t|      [95.0% Conf. Int.]\n",
      "------------------------------------------------------------------------------\n",
      "x1             0.4639      0.162      2.864      0.008         0.132     0.796\n",
      "x2             0.0105      0.019      0.539      0.594        -0.029     0.050\n",
      "x3             0.3786      0.139      2.720      0.011         0.093     0.664\n",
      "const         -1.4980      0.524     -2.859      0.008        -2.571    -0.425\n",
      "==============================================================================\n",
      "Omnibus:                        0.176   Durbin-Watson:                   2.346\n",
      "Prob(Omnibus):                  0.916   Jarque-Bera (JB):                0.167\n",
      "Skew:                           0.141   Prob(JB):                        0.920\n",
      "Kurtosis:                       2.786   Cond. No.                         176.\n",
      "==============================================================================\n",
      "\n",
      "Warnings:\n",
      "[1] Standard Errors assume that the covariance matrix of the errors is correctly specified.\n",
      "('RMSE', 0.13176481096115863)\n"
     ]
    },
    {
     "data": {
      "text/plain": [
       "<class 'statsmodels.datasets.utils.Dataset'>"
      ]
     },
     "execution_count": 2,
     "metadata": {},
     "output_type": "execute_result"
    }
   ],
   "source": [
    "import numpy as np\n",
    "import statsmodels.api as sm\n",
    "\n",
    "spector_data = sm.datasets.spector.load()\n",
    "X = sm.add_constant(spector_data.exog, prepend=False)\n",
    "Y = spector_data.endog\n",
    "\n",
    "\n",
    "# Fit and summarize OLS model\n",
    "mod = sm.OLS(exog=X, endog=Y)\n",
    "res = mod.fit()\n",
    "\n",
    "print(res.summary())\n",
    "\n",
    "print('RMSE', np.mean((res.predict(X) - Y)**2))\n",
    "spector_data"
   ]
  },
  {
   "cell_type": "code",
   "execution_count": 3,
   "metadata": {
    "collapsed": false,
    "scrolled": true
   },
   "outputs": [
    {
     "name": "stdout",
     "output_type": "stream",
     "text": [
      "Collecting tensorflow\n",
      "  Downloading tensorflow-1.1.0-cp27-cp27m-macosx_10_11_x86_64.whl (30.9MB)\n",
      "\u001b[K    100% |████████████████████████████████| 30.9MB 23kB/s eta 0:00:011\n",
      "\u001b[?25hRequirement already satisfied: wheel in /Users/anatoly.belonog/anaconda2/lib/python2.7/site-packages (from tensorflow)\n",
      "Collecting protobuf>=3.2.0 (from tensorflow)\n",
      "  Downloading protobuf-3.3.0.tar.gz (271kB)\n",
      "\u001b[K    100% |████████████████████████████████| 276kB 1.7MB/s ta 0:00:011\n",
      "\u001b[?25hCollecting mock>=2.0.0 (from tensorflow)\n",
      "  Using cached mock-2.0.0-py2.py3-none-any.whl\n",
      "Requirement already satisfied: numpy>=1.11.0 in /Users/anatoly.belonog/anaconda2/lib/python2.7/site-packages (from tensorflow)\n",
      "Requirement already satisfied: werkzeug>=0.11.10 in /Users/anatoly.belonog/anaconda2/lib/python2.7/site-packages (from tensorflow)\n",
      "Requirement already satisfied: six>=1.10.0 in /Users/anatoly.belonog/anaconda2/lib/python2.7/site-packages (from tensorflow)\n",
      "Requirement already satisfied: setuptools in /Users/anatoly.belonog/anaconda2/lib/python2.7/site-packages/setuptools-27.2.0-py2.7.egg (from protobuf>=3.2.0->tensorflow)\n",
      "Requirement already satisfied: funcsigs>=1; python_version < \"3.3\" in /Users/anatoly.belonog/anaconda2/lib/python2.7/site-packages (from mock>=2.0.0->tensorflow)\n",
      "Collecting pbr>=0.11 (from mock>=2.0.0->tensorflow)\n",
      "  Downloading pbr-3.0.1-py2.py3-none-any.whl (99kB)\n",
      "\u001b[K    100% |████████████████████████████████| 102kB 3.3MB/s a 0:00:011\n",
      "\u001b[?25hBuilding wheels for collected packages: protobuf\n",
      "  Running setup.py bdist_wheel for protobuf ... \u001b[?25l-\b \bdone\n",
      "\u001b[?25h  Stored in directory: /Users/anatoly.belonog/Library/Caches/pip/wheels/1b/42/a0/4c7343df5b629ec9c75655468dce7652b28026896b0209ba55\n",
      "Successfully built protobuf\n",
      "Installing collected packages: protobuf, pbr, mock, tensorflow\n",
      "Successfully installed mock-2.0.0 pbr-3.0.1 protobuf-3.3.0 tensorflow-1.1.0\n"
     ]
    }
   ],
   "source": [
    "!pip install tensorflow"
   ]
  },
  {
   "cell_type": "markdown",
   "metadata": {},
   "source": [
    "# Tensorflow linear regression \n",
    "You can install it with:\n",
    "```sh\n",
    "pip install tensorflow\n",
    "```\n",
    "Our model will be small, so it should work fine with CPU.\n",
    "\n",
    "Tensorflow tl;dr \n",
    "\n",
    "First you need to create computational graph with those functions\n",
    "\n",
    "[tf.placeholder](https://www.tensorflow.org/api_docs/python/tf/placeholder) - reserve place for input\n",
    "\n",
    "[tf.Variable](https://www.tensorflow.org/api_docs/python/tf/Variable) - parameters that you will optimize\n",
    "\n",
    "tf.add, tf.multiply ... - operations (node of the computational graph) [Read the docs](https://www.tensorflow.org/api_docs/python/tf)\n",
    "\n",
    "Define:\n",
    "1. Cost function - it is also the same computational node (`cost` in example bellow)\n",
    "2. create Optimizer \n",
    "\n",
    "When you have finished to creat your computational graph, you need to create Session -> Initialize variables -> Run optimizer/\n"
   ]
  },
  {
   "cell_type": "code",
   "execution_count": 2,
   "metadata": {
    "collapsed": false
   },
   "outputs": [
    {
     "name": "stdout",
     "output_type": "stream",
     "text": [
      "Epoch: 0050 cost= 0.165457696 W= 0.415931 b= -0.39515\n",
      "Epoch: 0100 cost= 0.155233666 W= 0.406038 b= -0.323982\n",
      "Epoch: 0150 cost= 0.146190450 W= 0.396733 b= -0.257046\n",
      "Epoch: 0200 cost= 0.138191640 W= 0.387982 b= -0.194091\n",
      "Epoch: 0250 cost= 0.131116748 W= 0.379752 b= -0.134881\n",
      "Epoch: 0300 cost= 0.124859065 W= 0.37201 b= -0.0791915\n",
      "Epoch: 0350 cost= 0.119324289 W= 0.36473 b= -0.0268147\n",
      "Epoch: 0400 cost= 0.114428863 W= 0.357882 b= 0.0224471\n",
      "Epoch: 0450 cost= 0.110099003 W= 0.351442 b= 0.068779\n",
      "Epoch: 0500 cost= 0.106269427 W= 0.345384 b= 0.112355\n",
      "Epoch: 0550 cost= 0.102882296 W= 0.339687 b= 0.15334\n",
      "Epoch: 0600 cost= 0.099886596 W= 0.334329 b= 0.191887\n",
      "Epoch: 0650 cost= 0.097237051 W= 0.329289 b= 0.228142\n",
      "Epoch: 0700 cost= 0.094893746 W= 0.324549 b= 0.26224\n",
      "Epoch: 0750 cost= 0.092821278 W= 0.320091 b= 0.294311\n",
      "Epoch: 0800 cost= 0.090988338 W= 0.315899 b= 0.324473\n",
      "Epoch: 0850 cost= 0.089367330 W= 0.311955 b= 0.352842\n",
      "Epoch: 0900 cost= 0.087933712 W= 0.308246 b= 0.379524\n",
      "Epoch: 0950 cost= 0.086665854 W= 0.304758 b= 0.404619\n",
      "Epoch: 1000 cost= 0.085544601 W= 0.301477 b= 0.428222\n",
      "Optimization Finished!\n",
      "Training cost= 0.0855446 W= 0.301477 b= 0.428222 \n",
      "\n"
     ]
    },
    {
     "data": {
      "image/png": "[encoded data removed]",
      "text/plain": [
       "<matplotlib.figure.Figure at 0x112b9bc10>"
      ]
     },
     "metadata": {},
     "output_type": "display_data"
    },
    {
     "name": "stdout",
     "output_type": "stream",
     "text": [
      "Testing... (Mean square loss Comparison)\n",
      "Testing cost= 0.0783444\n",
      "Absolute mean square loss difference: 0.00720023\n"
     ]
    },
    {
     "data": {
      "image/png": "[encoded data removed]",
      "text/plain": [
       "<matplotlib.figure.Figure at 0x115012e90>"
      ]
     },
     "metadata": {},
     "output_type": "display_data"
    }
   ],
   "source": [
    "from __future__ import print_function\n",
    "\n",
    "import tensorflow as tf\n",
    "import numpy\n",
    "import matplotlib.pyplot as plt\n",
    "rng = numpy.random\n",
    "\n",
    "# Parameters\n",
    "learning_rate = 0.01\n",
    "training_epochs = 1000\n",
    "display_step = 50\n",
    "\n",
    "# Training Data\n",
    "train_X = numpy.asarray([3.3,4.4,5.5,6.71,6.93,4.168,9.779,6.182,7.59,2.167,\n",
    "                         7.042,10.791,5.313,7.997,5.654,9.27,3.1])\n",
    "train_Y = numpy.asarray([1.7,2.76,2.09,3.19,1.694,1.573,3.366,2.596,2.53,1.221,\n",
    "                         2.827,3.465,1.65,2.904,2.42,2.94,1.3])\n",
    "n_samples = train_X.shape[0]\n",
    "\n",
    "# tf Graph Input\n",
    "X = tf.placeholder(\"float\")\n",
    "Y = tf.placeholder(\"float\")\n",
    "\n",
    "# Set model weights\n",
    "W = tf.Variable(rng.randn(), name=\"weight\")\n",
    "b = tf.Variable(rng.randn(), name=\"bias\")\n",
    "\n",
    "# Construct a linear model\n",
    "pred = tf.add(tf.multiply(X, W), b)\n",
    "\n",
    "# Mean squared error\n",
    "cost = tf.reduce_sum(tf.pow(pred-Y, 2))/(2*n_samples)\n",
    "# Gradient descent\n",
    "#  Note, minimize() knows to modify W and b because Variable objects are trainable=True by default\n",
    "optimizer = tf.train.GradientDescentOptimizer(learning_rate).minimize(cost)\n",
    "\n",
    "# Initializing the variables\n",
    "init = tf.global_variables_initializer()\n",
    "\n",
    "# Launch the graph\n",
    "with tf.Session() as sess:\n",
    "    sess.run(init)\n",
    "\n",
    "    # Fit all training data\n",
    "    for epoch in range(training_epochs):\n",
    "        for (x, y) in zip(train_X, train_Y):\n",
    "            sess.run(optimizer, feed_dict={X: x, Y: y})\n",
    "\n",
    "        # Display logs per epoch step\n",
    "        if (epoch+1) % display_step == 0:\n",
    "            c = sess.run(cost, feed_dict={X: train_X, Y:train_Y})\n",
    "            print(\"Epoch:\", '%04d' % (epoch+1), \"cost=\", \"{:.9f}\".format(c), \\\n",
    "                \"W=\", sess.run(W), \"b=\", sess.run(b))\n",
    "\n",
    "    print(\"Optimization Finished!\")\n",
    "    training_cost = sess.run(cost, feed_dict={X: train_X, Y: train_Y})\n",
    "    print(\"Training cost=\", training_cost, \"W=\", sess.run(W), \"b=\", sess.run(b), '\\n')\n",
    "\n",
    "    # Graphic display\n",
    "    plt.plot(train_X, train_Y, 'ro', label='Original data')\n",
    "    plt.plot(train_X, sess.run(W) * train_X + sess.run(b), label='Fitted line')\n",
    "    plt.legend()\n",
    "    plt.show()\n",
    "\n",
    "    # Testing example, as requested (Issue #2)\n",
    "    test_X = numpy.asarray([6.83, 4.668, 8.9, 7.91, 5.7, 8.7, 3.1, 2.1])\n",
    "    test_Y = numpy.asarray([1.84, 2.273, 3.2, 2.831, 2.92, 3.24, 1.35, 1.03])\n",
    "\n",
    "    print(\"Testing... (Mean square loss Comparison)\")\n",
    "    testing_cost = sess.run(\n",
    "        tf.reduce_sum(tf.pow(pred - Y, 2)) / (2 * test_X.shape[0]),\n",
    "        feed_dict={X: test_X, Y: test_Y})  # same function as cost above\n",
    "    print(\"Testing cost=\", testing_cost)\n",
    "    print(\"Absolute mean square loss difference:\", abs(\n",
    "        training_cost - testing_cost))\n",
    "\n",
    "    plt.plot(test_X, test_Y, 'bo', label='Testing data')\n",
    "    plt.plot(train_X, sess.run(W) * train_X + sess.run(b), label='Fitted line')\n",
    "    plt.legend()\n",
    "    plt.show()\n"
   ]
  },
  {
   "cell_type": "markdown",
   "metadata": {},
   "source": [
    "# Task:\n",
    "1. download dataset from https://www.kaggle.com/harlfoxem/housesalesprediction, make train, test datasets\n",
    "2. build linear regression  using `sqft_living` or `sqft_lot` of house age features \n",
    "3. build these regression models using different libraries (sklearn, statsmodel, tensorflow)\n",
    "4. compare models using $R^2$, $R^2_{adj}$ and RMSE "
   ]
  },
  {
   "cell_type": "markdown",
   "metadata": {},
   "source": [
    "## Solution"
   ]
  },
  {
   "cell_type": "markdown",
   "metadata": {
    "collapsed": true
   },
   "source": [
    "### 1. download dataset from https://www.kaggle.com/harlfoxem/housesalesprediction, make train, test datasets "
   ]
  },
  {
   "cell_type": "code",
   "execution_count": 3,
   "metadata": {
    "collapsed": false
   },
   "outputs": [
    {
     "name": "stderr",
     "output_type": "stream",
     "text": [
      "/Users/anatoly.belonog/anaconda2/lib/python2.7/site-packages/sklearn/cross_validation.py:44: DeprecationWarning: This module was deprecated in version 0.18 in favor of the model_selection module into which all the refactored classes and functions are moved. Also note that the interface of the new CV iterators are different from that of this module. This module will be removed in 0.20.\n",
      "  \"This module will be removed in 0.20.\", DeprecationWarning)\n"
     ]
    }
   ],
   "source": [
    "import matplotlib.pyplot as plt\n",
    "import numpy as np\n",
    "from sklearn import datasets, linear_model\n",
    "%matplotlib inline\n",
    "\n",
    "import pandas as pd\n",
    "import statsmodels.api as sm\n",
    "from sklearn.cross_validation  import train_test_split \n",
    "\n",
    "data = pd.read_csv(\"kc_house_data.csv\")\n",
    "\n",
    "data_train, data_test, target_train, target_test = train_test_split(data.sqft_living, data.price,\\\n",
    "                                                     random_state = 100, test_size = 0.3 )\n"
   ]
  },
  {
   "cell_type": "markdown",
   "metadata": {},
   "source": [
    "### 2. build linear regression using sqft_living or sqft_lot of house age features"
   ]
  },
  {
   "cell_type": "code",
   "execution_count": 4,
   "metadata": {
    "collapsed": false
   },
   "outputs": [],
   "source": [
    "data_train = np.array(data_train)\n",
    "data_test = np.array(data_test)\n",
    "target_train = np.array(target_train)\n",
    "target_test = np.array(target_test)\n",
    "data_train_sk = data_train.reshape( data_train.shape[0], 1 )\n",
    "data_test_sk = data_test.reshape( data_test.shape[0], 1 )\n",
    "target_train_sk = target_train.reshape( target_train.shape[0], 1 )\n",
    "target_test_sk = target_test.reshape( target_test.shape[0], 1 )"
   ]
  },
  {
   "cell_type": "markdown",
   "metadata": {},
   "source": [
    "### 3. build these regression models using different libraries (sklearn, statsmodel, tensorflow)"
   ]
  },
  {
   "cell_type": "code",
   "execution_count": 5,
   "metadata": {
    "collapsed": false
   },
   "outputs": [
    {
     "name": "stdout",
     "output_type": "stream",
     "text": [
      "Coefficients: \n",
      " [[ 279.73039149]] [-40514.31944706]\n",
      "Mean squared error: 67101265833.11\n",
      "Variance score: 0.51\n"
     ]
    },
    {
     "data": {
      "image/png": "[encoded data removed]",
      "text/plain": [
       "<matplotlib.figure.Figure at 0x1140a4090>"
      ]
     },
     "metadata": {},
     "output_type": "display_data"
    }
   ],
   "source": [
    "# With help of sklearn library\n",
    "skilearn_regr = linear_model.LinearRegression()\n",
    "skilearn_regr.fit(data_train_sk, target_train_sk)\n",
    "\n",
    "# The coefficients\n",
    "print('Coefficients: \\n', skilearn_regr.coef_, skilearn_regr.intercept_)\n",
    "# The mean squared error\n",
    "print(\"Mean squared error: %.2f\"\n",
    "      % np.mean((skilearn_regr.predict(data_test_sk) - target_test_sk) ** 2))\n",
    "# Explained variance score: 1 is perfect prediction\n",
    "print('Variance score: %.2f' % skilearn_regr.score(data_test_sk, target_test_sk))\n",
    "\n",
    "# Plot outputs\n",
    "plt.scatter(data_test_sk, target_test_sk,  color='black',label='Original data')\n",
    "plt.plot(data_test_sk, skilearn_regr.predict(data_test_sk), color='blue',\n",
    "         linewidth=2, label='Fitted data')\n",
    "plt.legend()\n",
    "plt.show()\n",
    "\n",
    "ski_r2 = skilearn_regr.score(data_test_sk,target_test_sk)\n",
    "ski_r2adj = ski_r2 - (1 - ski_r2)/(len(target_test_sk)-2)\n",
    "ski_rmse = np.sqrt(np.mean((skilearn_regr.predict(data_test_sk) - target_test_sk) ** 2))"
   ]
  },
  {
   "cell_type": "code",
   "execution_count": 6,
   "metadata": {
    "collapsed": false
   },
   "outputs": [
    {
     "data": {
      "image/png": "[encoded data removed]",
      "text/plain": [
       "<matplotlib.figure.Figure at 0x114e804d0>"
      ]
     },
     "metadata": {},
     "output_type": "display_data"
    }
   ],
   "source": [
    "# With help of statsmodel\n",
    "X_train = sm.add_constant(data_train, prepend=False)\n",
    "Y_train = target_train\n",
    "X_test = sm.add_constant(data_test, prepend=False)\n",
    "Y_test = target_test\n",
    "\n",
    "# Fit and summarize OLS model\n",
    "mod = sm.OLS(Y_train, X_train)\n",
    "res = mod.fit()\n",
    "\n",
    "# Plot outputs\n",
    "plt.scatter(data_test, Y_test,  color='black',label='Original data')\n",
    "plt.plot(data_test, res.predict(X_test), color='blue',\n",
    "         linewidth=2, label='Fitted data')\n",
    "plt.legend()\n",
    "plt.show()\n",
    "\n",
    "mod_help = sm.OLS(Y_train, X_train)\n",
    "res_help = mod_help.fit()\n",
    "\n",
    "st_r2 = res_help.rsquared\n",
    "st_r2adj = res_help.rsquared_adj\n",
    "st_rmse = np.sqrt(np.mean((res.predict(X_test)- Y_test) ** 2))"
   ]
  },
  {
   "cell_type": "code",
   "execution_count": 7,
   "metadata": {
    "collapsed": false
   },
   "outputs": [
    {
     "name": "stdout",
     "output_type": "stream",
     "text": [
      "Epoch: 0005 cost= 35622768640.000000000 W= 243.253 b= -1.16243\n",
      "Epoch: 0010 cost= 34585698304.000000000 W= 261.72 b= -1.15827\n",
      "Epoch: 0015 cost= 34578665472.000000000 W= 263.13 b= -1.16099\n",
      "Epoch: 0020 cost= 34578567168.000000000 W= 263.235 b= -1.16422\n",
      "Epoch: 0025 cost= 34578558976.000000000 W= 263.243 b= -1.16749\n",
      "Epoch: 0030 cost= 34578575360.000000000 W= 263.244 b= -1.17076\n",
      "Epoch: 0035 cost= 34578575360.000000000 W= 263.244 b= -1.17402\n",
      "Epoch: 0040 cost= 34578575360.000000000 W= 263.244 b= -1.17729\n",
      "Epoch: 0045 cost= 34578575360.000000000 W= 263.244 b= -1.18056\n",
      "Epoch: 0050 cost= 34578575360.000000000 W= 263.244 b= -1.18383\n",
      "Optimization Finished!\n",
      "Training cost= 3.45786e+10 W= 263.244 b= -1.18383 \n",
      "\n"
     ]
    },
    {
     "data": {
      "image/png": "[encoded data removed]",
      "text/plain": [
       "<matplotlib.figure.Figure at 0x10c369f90>"
      ]
     },
     "metadata": {},
     "output_type": "display_data"
    },
    {
     "name": "stdout",
     "output_type": "stream",
     "text": [
      "Testing... (Mean square loss Comparison)\n",
      "Testing cost= 3.37522e+10\n",
      "Absolute mean square loss difference: 8.26411e+08\n"
     ]
    },
    {
     "data": {
      "image/png": "[encoded data removed]",
      "text/plain": [
       "<matplotlib.figure.Figure at 0x11eb4ee90>"
      ]
     },
     "metadata": {},
     "output_type": "display_data"
    }
   ],
   "source": [
    "from __future__ import print_function\n",
    "\n",
    "import tensorflow as tf\n",
    "import numpy\n",
    "import matplotlib.pyplot as plt\n",
    "rng = numpy.random\n",
    "\n",
    "# Parameters\n",
    "learning_rate = 1e-7\n",
    "training_epochs = 50\n",
    "display_step = 5\n",
    "\n",
    "# Training Data\n",
    "train_X = numpy.asarray(data_train)\n",
    "train_Y = numpy.asarray(target_train)\n",
    "n_samples = train_X.shape[0]\n",
    "\n",
    "# tf Graph Input\n",
    "X = tf.placeholder(\"float\")\n",
    "Y = tf.placeholder(\"float\")\n",
    "\n",
    "# Set model weights\n",
    "W = tf.Variable(rng.randn(), name=\"weight\")\n",
    "b = tf.Variable(rng.randn(), name=\"bias\")\n",
    "\n",
    "# Construct a linear model\n",
    "pred = tf.add(tf.multiply(X, W), b)\n",
    "\n",
    "# Mean squared error\n",
    "cost = tf.reduce_sum(tf.pow(pred-Y, 2))/(2*n_samples)\n",
    "# Gradient descent\n",
    "#  Note, minimize() knows to modify W and b because Variable objects are trainable=True by default\n",
    "optimizer = tf.train.GradientDescentOptimizer(learning_rate).minimize(cost)\n",
    "\n",
    "# Initializing the variables\n",
    "init = tf.global_variables_initializer()\n",
    "\n",
    "# Launch the graph\n",
    "with tf.Session() as sess:\n",
    "    sess.run(init)\n",
    "\n",
    "    # Fit all training data\n",
    "    for epoch in range(training_epochs):\n",
    "        for (x, y) in zip(train_X, train_Y):\n",
    "            sess.run(optimizer, feed_dict={X: x, Y: y})\n",
    "\n",
    "        # Display logs per epoch step\n",
    "        if (epoch+1) % display_step == 0:\n",
    "            c = sess.run(cost, feed_dict={X: train_X, Y:train_Y})\n",
    "            print(\"Epoch:\", '%04d' % (epoch+1), \"cost=\", \"{:.9f}\".format(c), \\\n",
    "                \"W=\", sess.run(W), \"b=\", sess.run(b))\n",
    "\n",
    "    print(\"Optimization Finished!\")\n",
    "    training_cost = sess.run(cost, feed_dict={X: train_X, Y: train_Y})\n",
    "    print(\"Training cost=\", training_cost, \"W=\", sess.run(W), \"b=\", sess.run(b), '\\n')\n",
    "\n",
    "    # Graphic display\n",
    "    plt.plot(train_X, train_Y, 'ro', label='Original data')\n",
    "    plt.plot(train_X, sess.run(W) * train_X + sess.run(b), label='Fitted line')\n",
    "    plt.legend()\n",
    "    plt.show()\n",
    "\n",
    "    # Testing example, as requested (Issue #2)\n",
    "    test_X = numpy.asarray(data_test)\n",
    "    test_Y = numpy.asarray(target_test)\n",
    "\n",
    "    print(\"Testing... (Mean square loss Comparison)\")\n",
    "    testing_cost = sess.run(\n",
    "        tf.reduce_sum(tf.pow(pred - Y, 2)) / (2 * test_X.shape[0]),\n",
    "        feed_dict={X: test_X, Y: test_Y})  # same function as cost above\n",
    "    print(\"Testing cost=\", testing_cost)\n",
    "    print(\"Absolute mean square loss difference:\", abs(\n",
    "        training_cost - testing_cost))\n",
    "    \n",
    "    target_pred = sess.run(W) * test_X + sess.run(b)\n",
    "    plt.plot(test_X, test_Y, 'bo', label='Testing data')\n",
    "    plt.plot(test_X, sess.run(W) * test_X + sess.run(b), label='Fitted line')\n",
    "    plt.legend()\n",
    "    plt.show()\n",
    "    \n",
    "    \n",
    "    ten_r2 = np.sum((target_pred- np.mean(test_Y)) ** 2) / np.sum((test_Y - np.mean(test_Y))**2)\n",
    "    ten_r2adj = ten_r2 - (1 - ten_r2)/(len(test_Y)-2)\n",
    "    ten_rmse = np.sqrt(np.mean((target_pred- test_Y) ** 2))\n"
   ]
  },
  {
   "cell_type": "markdown",
   "metadata": {},
   "source": [
    "### 4. compare models using $R^2$, $R^2_{adj}$ and RMSE "
   ]
  },
  {
   "cell_type": "code",
   "execution_count": 8,
   "metadata": {
    "collapsed": false
   },
   "outputs": [
    {
     "data": {
      "text/html": [
       "<div>\n",
       "<table border=\"1\" class=\"dataframe\">\n",
       "  <thead>\n",
       "    <tr style=\"text-align: right;\">\n",
       "      <th></th>\n",
       "      <th>$R^2$</th>\n",
       "      <th>$R^2_{adj}$</th>\n",
       "      <th>RMSE</th>\n",
       "    </tr>\n",
       "  </thead>\n",
       "  <tbody>\n",
       "    <tr>\n",
       "      <th>sklearn</th>\n",
       "      <td>0.505164</td>\n",
       "      <td>0.505088</td>\n",
       "      <td>259039.120276</td>\n",
       "    </tr>\n",
       "    <tr>\n",
       "      <th>statsmodel</th>\n",
       "      <td>0.487507</td>\n",
       "      <td>0.487473</td>\n",
       "      <td>259039.120276</td>\n",
       "    </tr>\n",
       "    <tr>\n",
       "      <th>tensorflow</th>\n",
       "      <td>0.438937</td>\n",
       "      <td>0.438851</td>\n",
       "      <td>259815.979278</td>\n",
       "    </tr>\n",
       "  </tbody>\n",
       "</table>\n",
       "</div>"
      ],
      "text/plain": [
       "               $R^2$  $R^2_{adj}$           RMSE\n",
       "sklearn     0.505164     0.505088  259039.120276\n",
       "statsmodel  0.487507     0.487473  259039.120276\n",
       "tensorflow  0.438937     0.438851  259815.979278"
      ]
     },
     "execution_count": 8,
     "metadata": {},
     "output_type": "execute_result"
    }
   ],
   "source": [
    "compare = {r'$R^2$' : pd.Series([ski_r2,st_r2,ten_r2], index=['sklearn','statsmodel','tensorflow']),\n",
    "             r'$R^2_{adj}$' : pd.Series([ski_r2adj,st_r2adj,ten_r2adj], index=['sklearn','statsmodel','tensorflow']),\n",
    "          'RMSE' : pd.Series([ski_rmse,st_rmse,ten_rmse], index=['sklearn','statsmodel','tensorflow'])}\n",
    " \n",
    "compare_table = pd.DataFrame(compare)\n",
    "compare_table "
   ]
  },
  {
   "cell_type": "markdown",
   "metadata": {},
   "source": [
    "We can see that models from sklearn and statsmodel gave us very close results but tensorflow have slightly worse values of estimates. The reason of this phenomena consists in bed choise of the parameters (number of epoch and learning rate). Another reason is low speed of the method."
   ]
  },
  {
   "cell_type": "markdown",
   "metadata": {},
   "source": [
    "# Categorical variables\n",
    "\n",
    "Task:\n",
    "1. Answer the questions:\n",
    "    - What is a categorical variables?\n",
    "    - Which features from the house sales dataset are categical?\n",
    "    - How can you make model using these features?"
   ]
  },
  {
   "cell_type": "markdown",
   "metadata": {},
   "source": [
    "## Answers"
   ]
  },
  {
   "cell_type": "markdown",
   "metadata": {},
   "source": [
    "### What is a categorical variables?"
   ]
  },
  {
   "cell_type": "markdown",
   "metadata": {},
   "source": [
    "It is a type of variables which has limited number of values (for example: sex, religion). We can compare such values only to understand do they equal or not, but we can't say that one of them less then another."
   ]
  },
  {
   "cell_type": "markdown",
   "metadata": {},
   "source": [
    "### Which features from the house sales dataset are categical?"
   ]
  },
  {
   "cell_type": "markdown",
   "metadata": {},
   "source": [
    "Categorical vaiables are waterfront, view."
   ]
  },
  {
   "cell_type": "markdown",
   "metadata": {},
   "source": [
    "### How can you make model using these features?"
   ]
  },
  {
   "cell_type": "markdown",
   "metadata": {
    "collapsed": true
   },
   "source": [
    "If one of the variables is categorical (for example, sex: 'male', 'female') and we want to make regression with help of them we can transform nominal value to the ordered ('male' = 1, 'female' = 0)"
   ]
  },
  {
   "cell_type": "markdown",
   "metadata": {},
   "source": [
    "## Regularization\n",
    "\n",
    "Regularization is a method for \"constraining\" or \"regularizing\" the size of the coefficients, thus \"shrinking\" them towards zero. It tends to reduce variance more than it increases bias, and thus minimizes overfitting.\n",
    "\n",
    "Common regularization techniques for linear models:\n",
    "\n",
    "- **Ridge regression** (also known as \"L2 regularization\"): shrinks coefficients toward zero (but they never reach zero)\n",
    "- **Lasso regularization** (also known as \"L1 regularization\"): shrinks coefficients all the way to zero\n",
    "- **ElasticNet regularization**: balance between Ridge and Lasso\n",
    "\n",
    "Lasso regularization is useful if we believe many features are irrelevant, since a feature with a zero coefficient is essentially removed from the model. Thus, it is a useful technique for feature selection.\n",
    "\n",
    "How does regularization work?\n",
    "\n",
    "- A tuning parameter alpha (or sometimes lambda) imposes a penalty on the size of coefficients.\n",
    "- Instead of minimizing the \"loss function\" (mean squared error), it minimizes the \"loss plus penalty\".\n",
    "- A tiny alpha imposes no penalty on the coefficient size, and is equivalent to a normal linear model.\n",
    "- Increasing the alpha penalizes the coefficients and shrinks them toward zero.\n",
    "\n",
    "\n",
    "![reg_picture](https://qph.ec.quoracdn.net/main-qimg-2a88e2acc009fa4de3edeb51e683ca02)\n",
    "\n",
    "\n",
    "Task:\n",
    "1. Build crosscorrelation table for features\n",
    "2. Fit linear regression model using at least 2 highly correlated features\n",
    "3. Plot values of regrssion coefficients as a function of regularization parameter $\\alpha$ for LASSO and RIDGE models. [example](http://scikit-learn.org/stable/auto_examples/linear_model/plot_ridge_path.html#sphx-glr-auto-examples-linear-model-plot-ridge-path-py)"
   ]
  },
  {
   "cell_type": "markdown",
   "metadata": {
    "collapsed": true
   },
   "source": [
    "## Solution"
   ]
  },
  {
   "cell_type": "markdown",
   "metadata": {},
   "source": [
    "### 1. Build crosscorrelation table for features"
   ]
  },
  {
   "cell_type": "code",
   "execution_count": 9,
   "metadata": {
    "collapsed": false
   },
   "outputs": [
    {
     "data": {
      "text/plain": [
       "<matplotlib.image.AxesImage at 0x11f1b3450>"
      ]
     },
     "execution_count": 9,
     "metadata": {},
     "output_type": "execute_result"
    },
    {
     "data": {
      "image/png": "[encoded data removed]",
      "text/plain": [
       "<matplotlib.figure.Figure at 0x11eb59550>"
      ]
     },
     "metadata": {},
     "output_type": "display_data"
    }
   ],
   "source": [
    "plt.matshow(data.corr())"
   ]
  },
  {
   "cell_type": "markdown",
   "metadata": {},
   "source": [
    "As we can see from the plot the most correlated features are 5th (sqft_living) and 12th(sqft_above). Coefficient of correlation is equal to 0.876597."
   ]
  },
  {
   "cell_type": "markdown",
   "metadata": {},
   "source": [
    "### 2. Fit linear regression model using at least 2 highly correlated features"
   ]
  },
  {
   "cell_type": "code",
   "execution_count": 10,
   "metadata": {
    "collapsed": false
   },
   "outputs": [],
   "source": [
    "import sklearn.preprocessing as prep\n",
    "from sklearn.linear_model import Ridge, Lasso\n",
    "data_reg = data[['sqft_living','sqft_above']]\n",
    "\n",
    "# Center the data\n",
    "X = prep.scale(data_reg)\n",
    "y = prep.scale(data.price)\n",
    "\n",
    "# Denote Ridge model\n",
    "n_alphas = 200\n",
    "alphas = np.logspace(-7, 10, n_alphas)\n",
    "ridge_reg = linear_model.Ridge(fit_intercept=False)\n"
   ]
  },
  {
   "cell_type": "markdown",
   "metadata": {},
   "source": [
    "### 3. Plot values of regrssion coefficients as a function of regularization parameter $\\alpha$ for LASSO and RIDGE models."
   ]
  },
  {
   "cell_type": "code",
   "execution_count": 16,
   "metadata": {
    "collapsed": false
   },
   "outputs": [
    {
     "data": {
      "image/png": "[encoded data removed]",
      "text/plain": [
       "<matplotlib.figure.Figure at 0x124772950>"
      ]
     },
     "metadata": {},
     "output_type": "display_data"
    }
   ],
   "source": [
    "# Compute coeffitients\n",
    "coefs = []\n",
    "for a in alphas:\n",
    "    ridge_reg.set_params(alpha=a)\n",
    "    ridge_reg.fit(X, y)\n",
    "    coefs.append(ridge_reg.coef_)\n",
    "\n",
    "# Plot coefficients\n",
    "ax = plt.gca()\n",
    "\n",
    "ax.plot(alphas, coefs)\n",
    "ax.set_xscale('log')\n",
    "plt.xlabel('alpha')\n",
    "plt.ylabel('weights')\n",
    "plt.title('Ridge coefficients as a function of the regularization')\n",
    "plt.axis('tight')\n",
    "plt.legend()\n",
    "plt.show()"
   ]
  },
  {
   "cell_type": "code",
   "execution_count": 12,
   "metadata": {
    "collapsed": false
   },
   "outputs": [
    {
     "data": {
      "image/png": "[encoded data removed]",
      "text/plain": [
       "<matplotlib.figure.Figure at 0x11e9aaf50>"
      ]
     },
     "metadata": {},
     "output_type": "display_data"
    }
   ],
   "source": [
    "alphas = np.logspace(-7, 5, n_alphas)\n",
    "\n",
    "lasso_reg = Lasso(fit_intercept=False)\n",
    "\n",
    "# Compute coeffitients\n",
    "coefs = []\n",
    "for a in alphas:\n",
    "    lasso_reg.set_params(alpha=a)\n",
    "    lasso_reg.fit(X, y)\n",
    "    coefs.append(lasso_reg.coef_)\n",
    "    \n",
    "ax = plt.gca()\n",
    "\n",
    "ax.plot(alphas, coefs)\n",
    "ax.set_xscale('log')\n",
    "plt.xlabel('alpha')\n",
    "plt.ylabel('weights')\n",
    "plt.title('Lasso coefficients as a function of the regularization')\n",
    "plt.axis('tight')\n",
    "plt.legend()\n",
    "plt.show()"
   ]
  },
  {
   "cell_type": "markdown",
   "metadata": {},
   "source": [
    "At the pictures we can see the fact when we increase $\\alpha$ weights tend to zero value. It happens because great value of $\\alpha$ makes regelarising part of cost function greater then \"accuracy\" part. To obtain more or less good results in this case we need to have zero weights.   "
   ]
  },
  {
   "cell_type": "markdown",
   "metadata": {},
   "source": [
    "# Regression trees \n",
    "\n",
    "Task:\n",
    "1. try `sklearn.tree.DecisionTreeRegressor`\n",
    "2. compare models using $R^2$, $R^2_{adj}$ and RMSE \n"
   ]
  },
  {
   "cell_type": "markdown",
   "metadata": {
    "collapsed": true
   },
   "source": [
    "## Solution"
   ]
  },
  {
   "cell_type": "markdown",
   "metadata": {},
   "source": [
    "### 1. try `sklearn.tree.DecisionTreeRegressor`"
   ]
  },
  {
   "cell_type": "code",
   "execution_count": 13,
   "metadata": {
    "collapsed": false
   },
   "outputs": [],
   "source": [
    "from sklearn.tree import DecisionTreeRegressor\n",
    "\n",
    "\n",
    "des_regr = DecisionTreeRegressor(random_state=0)\n",
    "des_regr.fit( data_train_sk, target_train_sk )\n",
    "target_pred_des = des_regr.predict ( data_test_sk )"
   ]
  },
  {
   "cell_type": "markdown",
   "metadata": {},
   "source": [
    "### 2. compare models using $R^2$, $R^2_{adj}$ and RMSE"
   ]
  },
  {
   "cell_type": "code",
   "execution_count": 14,
   "metadata": {
    "collapsed": false
   },
   "outputs": [
    {
     "data": {
      "text/html": [
       "<div>\n",
       "<table border=\"1\" class=\"dataframe\">\n",
       "  <thead>\n",
       "    <tr style=\"text-align: right;\">\n",
       "      <th></th>\n",
       "      <th>$R^2$</th>\n",
       "      <th>$R^2_{adj}$</th>\n",
       "      <th>RMSE</th>\n",
       "    </tr>\n",
       "  </thead>\n",
       "  <tbody>\n",
       "    <tr>\n",
       "      <th>sklearn</th>\n",
       "      <td>0.505164</td>\n",
       "      <td>0.505088</td>\n",
       "      <td>259039.120276</td>\n",
       "    </tr>\n",
       "    <tr>\n",
       "      <th>statsmodel</th>\n",
       "      <td>0.487507</td>\n",
       "      <td>0.487473</td>\n",
       "      <td>259039.120276</td>\n",
       "    </tr>\n",
       "    <tr>\n",
       "      <th>tensorflow</th>\n",
       "      <td>0.438937</td>\n",
       "      <td>0.438851</td>\n",
       "      <td>259815.979278</td>\n",
       "    </tr>\n",
       "    <tr>\n",
       "      <th>destree</th>\n",
       "      <td>0.492168</td>\n",
       "      <td>0.492090</td>\n",
       "      <td>262418.635761</td>\n",
       "    </tr>\n",
       "  </tbody>\n",
       "</table>\n",
       "</div>"
      ],
      "text/plain": [
       "               $R^2$  $R^2_{adj}$           RMSE\n",
       "sklearn     0.505164     0.505088  259039.120276\n",
       "statsmodel  0.487507     0.487473  259039.120276\n",
       "tensorflow  0.438937     0.438851  259815.979278\n",
       "destree     0.492168     0.492090  262418.635761"
      ]
     },
     "execution_count": 14,
     "metadata": {},
     "output_type": "execute_result"
    }
   ],
   "source": [
    "des_r2 = des_regr.score( data_test_sk, target_test_sk )\n",
    "des_r2adj = des_r2 - (1 - des_r2)/(len(target_test_sk)-2)\n",
    "des_rmse = np.sqrt(np.mean((des_regr.predict ( data_test_sk ) - target_test) ** 2))\n",
    "\n",
    "compare = {r'$R^2$' : pd.Series([ski_r2,st_r2,ten_r2, des_r2], index=['sklearn','statsmodel','tensorflow', 'destree']),\n",
    "             r'$R^2_{adj}$' : pd.Series([ski_r2adj,st_r2adj,ten_r2adj,des_r2adj], index=['sklearn','statsmodel','tensorflow','destree']),\n",
    "          'RMSE' : pd.Series([ski_rmse,st_rmse,ten_rmse, des_rmse], index=['sklearn','statsmodel','tensorflow', 'destree'])}\n",
    " \n",
    "compare_table = pd.DataFrame(compare)\n",
    "compare_table "
   ]
  },
  {
   "cell_type": "markdown",
   "metadata": {},
   "source": [
    "Descision tree has values of estimates which are very close to the same estimates of sklearn and statsmodel."
   ]
  },
  {
   "cell_type": "markdown",
   "metadata": {},
   "source": [
    "# XGBoost regressor \n",
    "I have mentioned it here only for you to know about the existence of that model"
   ]
  }
 ],
 "metadata": {
  "anaconda-cloud": {},
  "kernelspec": {
   "display_name": "Python 2",
   "language": "python",
   "name": "python2"
  },
  "language_info": {
   "codemirror_mode": {
    "name": "ipython",
    "version": 2
   },
   "file_extension": ".py",
   "mimetype": "text/x-python",
   "name": "python",
   "nbconvert_exporter": "python",
   "pygments_lexer": "ipython2",
   "version": "2.7.13"
  }
 },
 "nbformat": 4,
 "nbformat_minor": 1
}
